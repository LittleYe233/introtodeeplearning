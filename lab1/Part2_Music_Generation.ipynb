{
  "metadata": {
    "kernelspec": {
      "language": "python",
      "display_name": "Python 3",
      "name": "python3"
    },
    "language_info": {
      "name": "python",
      "version": "3.7.12",
      "mimetype": "text/x-python",
      "codemirror_mode": {
        "name": "ipython",
        "version": 3
      },
      "pygments_lexer": "ipython3",
      "nbconvert_exporter": "python",
      "file_extension": ".py"
    }
  },
  "nbformat_minor": 4,
  "nbformat": 4,
  "cells": [
    {
      "cell_type": "markdown",
      "source": "<table align=\"center\">\n  <td align=\"center\"><a target=\"_blank\" href=\"http://introtodeeplearning.com\">\n        <img src=\"https://i.ibb.co/Jr88sn2/mit.png\" style=\"padding-bottom:5px;\" />\n      Visit MIT Deep Learning</a></td>\n  <td align=\"center\"><a target=\"_blank\" href=\"https://colab.research.google.com/github/aamini/introtodeeplearning/blob/master/lab1/Part2_Music_Generation.ipynb\">\n        <img src=\"https://i.ibb.co/2P3SLwK/colab.png\"  style=\"padding-bottom:5px;\" />Run in Google Colab</a></td>\n  <td align=\"center\"><a target=\"_blank\" href=\"https://github.com/aamini/introtodeeplearning/blob/master/lab1/Part2_Music_Generation.ipynb\">\n        <img src=\"https://i.ibb.co/xfJbPmL/github.png\"  height=\"70px\" style=\"padding-bottom:5px;\"  />View Source on GitHub</a></td>\n</table>\n\n# Copyright Information",
      "metadata": {
        "id": "uoJsVjtCMunI"
      }
    },
    {
      "cell_type": "code",
      "source": "# Copyright 2022 MIT 6.S191 Introduction to Deep Learning. All Rights Reserved.\n# \n# Licensed under the MIT License. You may not use this file except in compliance\n# with the License. Use and/or modification of this code outside of 6.S191 must\n# reference:\n#\n# © MIT 6.S191: Introduction to Deep Learning\n# http://introtodeeplearning.com\n#",
      "metadata": {
        "id": "bUik05YqMyCH",
        "execution": {
          "iopub.status.busy": "2022-10-29T08:25:30.231818Z",
          "iopub.execute_input": "2022-10-29T08:25:30.232197Z",
          "iopub.status.idle": "2022-10-29T08:25:30.236962Z",
          "shell.execute_reply.started": "2022-10-29T08:25:30.232167Z",
          "shell.execute_reply": "2022-10-29T08:25:30.235930Z"
        },
        "trusted": true
      },
      "execution_count": null,
      "outputs": []
    },
    {
      "cell_type": "markdown",
      "source": "# Lab 1: Intro to TensorFlow and Music Generation with RNNs\n\n# Part 2: Music Generation with RNNs\n\nIn this portion of the lab, we will explore building a Recurrent Neural Network (RNN) for music generation. We will train a model to learn the patterns in raw sheet music in [ABC notation](https://en.wikipedia.org/wiki/ABC_notation) and then use this model to generate new music. ",
      "metadata": {
        "id": "O-97SDET3JG-"
      }
    },
    {
      "cell_type": "markdown",
      "source": "## 2.1 Dependencies \nFirst, let's download the course repository, install dependencies, and import the relevant packages we'll need for this lab.",
      "metadata": {
        "id": "rsvlBQYCrE4I"
      }
    },
    {
      "cell_type": "code",
      "source": "# Import Tensorflow 2.0\n# %tensorflow_version 2.x\nimport tensorflow as tf \n\n# Download and import the MIT 6.S191 package\n!pip install mitdeeplearning\nimport mitdeeplearning as mdl\n\n# Import all remaining packages\nimport numpy as np\nimport os\nimport time\nimport functools\nfrom IPython import display as ipythondisplay\nfrom tqdm import tqdm\n!apt-get install -y abcmidi timidity # > /dev/null 2>&1\n\n# Check that we are using a GPU, if not switch runtimes\n#   using Runtime > Change Runtime Type > GPU\nassert len(tf.config.list_physical_devices('GPU')) > 0",
      "metadata": {
        "id": "riVZCVK65QTH",
        "execution": {
          "iopub.status.busy": "2022-10-29T08:25:30.239009Z",
          "iopub.execute_input": "2022-10-29T08:25:30.239685Z",
          "iopub.status.idle": "2022-10-29T08:26:11.957892Z",
          "shell.execute_reply.started": "2022-10-29T08:25:30.239649Z",
          "shell.execute_reply": "2022-10-29T08:26:11.956542Z"
        },
        "trusted": true
      },
      "execution_count": null,
      "outputs": []
    },
    {
      "cell_type": "markdown",
      "source": "## 2.2 Dataset\n\n![Let's Dance!](http://33.media.tumblr.com/3d223954ad0a77f4e98a7b87136aa395/tumblr_nlct5lFVbF1qhu7oio1_500.gif)\n\nWe've gathered a dataset of thousands of Irish folk songs, represented in the ABC notation. Let's download the dataset and inspect it: \n",
      "metadata": {
        "id": "_ajvp0No4qDm"
      }
    },
    {
      "cell_type": "code",
      "source": "# Download the dataset\nsongs = mdl.lab1.load_training_data()\n\n# Print one of the songs to inspect it in greater detail!\nexample_song = songs[0]\nprint(\"\\nExample song: \")\nprint(example_song)",
      "metadata": {
        "id": "P7dFnP5q3Jve",
        "execution": {
          "iopub.status.busy": "2022-10-29T08:26:11.959951Z",
          "iopub.execute_input": "2022-10-29T08:26:11.960605Z",
          "iopub.status.idle": "2022-10-29T08:26:11.981534Z",
          "shell.execute_reply.started": "2022-10-29T08:26:11.960560Z",
          "shell.execute_reply": "2022-10-29T08:26:11.980491Z"
        },
        "trusted": true
      },
      "execution_count": null,
      "outputs": []
    },
    {
      "cell_type": "markdown",
      "source": "We can easily convert a song in ABC notation to an audio waveform and play it back. Be patient for this conversion to run, it can take some time.",
      "metadata": {
        "id": "hKF3EHJlCAj2"
      }
    },
    {
      "cell_type": "code",
      "source": "# Convert the ABC notation to audio file and listen to it\nmdl.lab1.play_song(example_song)",
      "metadata": {
        "id": "11toYzhEEKDz",
        "execution": {
          "iopub.status.busy": "2022-10-29T08:26:11.984496Z",
          "iopub.execute_input": "2022-10-29T08:26:11.984870Z",
          "iopub.status.idle": "2022-10-29T08:26:13.252943Z",
          "shell.execute_reply.started": "2022-10-29T08:26:11.984834Z",
          "shell.execute_reply": "2022-10-29T08:26:13.251646Z"
        },
        "trusted": true
      },
      "execution_count": null,
      "outputs": []
    },
    {
      "cell_type": "markdown",
      "source": "One important thing to think about is that this notation of music does not simply contain information on the notes being played, but additionally there is meta information such as the song title, key, and tempo. How does the number of different characters that are present in the text file impact the complexity of the learning problem? This will become important soon, when we generate a numerical representation for the text data.",
      "metadata": {
        "id": "7vH24yyquwKQ"
      }
    },
    {
      "cell_type": "code",
      "source": "# Join our list of song strings into a single string containing all songs\nsongs_joined = \"\\n\\n\".join(songs) \n\n# Find all unique characters in the joined string\nvocab = sorted(set(songs_joined))\nprint(\"There are\", len(vocab), \"unique characters in the dataset\")",
      "metadata": {
        "id": "IlCgQBRVymwR",
        "execution": {
          "iopub.status.busy": "2022-10-29T08:26:13.254345Z",
          "iopub.execute_input": "2022-10-29T08:26:13.254808Z",
          "iopub.status.idle": "2022-10-29T08:26:13.270454Z",
          "shell.execute_reply.started": "2022-10-29T08:26:13.254761Z",
          "shell.execute_reply": "2022-10-29T08:26:13.268743Z"
        },
        "trusted": true
      },
      "execution_count": null,
      "outputs": []
    },
    {
      "cell_type": "markdown",
      "source": "## 2.3 Process the dataset for the learning task\n\nLet's take a step back and consider our prediction task. We're trying to train a RNN model to learn patterns in ABC music, and then use this model to generate (i.e., predict) a new piece of music based on this learned information. \n\nBreaking this down, what we're really asking the model is: given a character, or a sequence of characters, what is the most probable next character? We'll train the model to perform this task. \n\nTo achieve this, we will input a sequence of characters to the model, and train the model to predict the output, that is, the following character at each time step. RNNs maintain an internal state that depends on previously seen elements, so information about all characters seen up until a given moment will be taken into account in generating the prediction.",
      "metadata": {
        "id": "rNnrKn_lL-IJ"
      }
    },
    {
      "cell_type": "markdown",
      "source": "### Vectorize the text\n\nBefore we begin training our RNN model, we'll need to create a numerical representation of our text-based dataset. To do this, we'll generate two lookup tables: one that maps characters to numbers, and a second that maps numbers back to characters. Recall that we just identified the unique characters present in the text.",
      "metadata": {
        "id": "LFjSVAlWzf-N"
      }
    },
    {
      "cell_type": "code",
      "source": "### Define numerical representation of text ###\n\n# Create a mapping from character to unique index.\n# For example, to get the index of the character \"d\", \n#   we can evaluate `char2idx[\"d\"]`.  \nchar2idx = {u:i for i, u in enumerate(vocab)}\n\n# Create a mapping from indices to characters. This is\n#   the inverse of char2idx and allows us to convert back\n#   from unique index to the character in our vocabulary.\nidx2char = np.array(vocab)",
      "metadata": {
        "id": "IalZLbvOzf-F",
        "execution": {
          "iopub.status.busy": "2022-10-29T08:26:13.273463Z",
          "iopub.execute_input": "2022-10-29T08:26:13.274345Z",
          "iopub.status.idle": "2022-10-29T08:26:13.290533Z",
          "shell.execute_reply.started": "2022-10-29T08:26:13.274273Z",
          "shell.execute_reply": "2022-10-29T08:26:13.289140Z"
        },
        "trusted": true
      },
      "execution_count": null,
      "outputs": []
    },
    {
      "cell_type": "markdown",
      "source": "This gives us an integer representation for each character. Observe that the unique characters (i.e., our vocabulary) in the text are mapped as indices from 0 to `len(unique)`. Let's take a peek at this numerical representation of our dataset:",
      "metadata": {
        "id": "tZfqhkYCymwX"
      }
    },
    {
      "cell_type": "code",
      "source": "print('{')\nfor char,_ in zip(char2idx, range(20)):\n    print('  {:4s}: {:3d},'.format(repr(char), char2idx[char]))\nprint('  ...\\n}')",
      "metadata": {
        "id": "FYyNlCNXymwY",
        "execution": {
          "iopub.status.busy": "2022-10-29T08:26:13.292468Z",
          "iopub.execute_input": "2022-10-29T08:26:13.293084Z",
          "iopub.status.idle": "2022-10-29T08:26:13.301345Z",
          "shell.execute_reply.started": "2022-10-29T08:26:13.293050Z",
          "shell.execute_reply": "2022-10-29T08:26:13.300535Z"
        },
        "trusted": true
      },
      "execution_count": null,
      "outputs": []
    },
    {
      "cell_type": "code",
      "source": "### Vectorize the songs string ###\n\n'''TODO: Write a function to convert the all songs string to a vectorized\n    (i.e., numeric) representation. Use the appropriate mapping\n    above to convert from vocab characters to the corresponding indices.\n\n  NOTE: the output of the `vectorize_string` function \n  should be a np.array with `N` elements, where `N` is\n  the number of characters in the input string\n'''\n\ndef vectorize_string(string):\n  # TODO\n  return np.fromiter(map(lambda c: char2idx[c], string), dtype=np.uint8)\n\nvectorized_songs = vectorize_string(songs_joined)",
      "metadata": {
        "id": "g-LnKyu4dczc",
        "execution": {
          "iopub.status.busy": "2022-10-29T08:26:13.302858Z",
          "iopub.execute_input": "2022-10-29T08:26:13.303498Z",
          "iopub.status.idle": "2022-10-29T08:26:13.355432Z",
          "shell.execute_reply.started": "2022-10-29T08:26:13.303465Z",
          "shell.execute_reply": "2022-10-29T08:26:13.354665Z"
        },
        "trusted": true
      },
      "execution_count": null,
      "outputs": []
    },
    {
      "cell_type": "markdown",
      "source": "We can also look at how the first part of the text is mapped to an integer representation:",
      "metadata": {
        "id": "IqxpSuZ1w-ub"
      }
    },
    {
      "cell_type": "code",
      "source": "print ('{} ---- characters mapped to int ----> {}'.format(repr(songs_joined[:10]), vectorized_songs[:10]))\n# check that vectorized_songs is a numpy array\nassert isinstance(vectorized_songs, np.ndarray), \"returned result should be a numpy array\"",
      "metadata": {
        "id": "l1VKcQHcymwb",
        "execution": {
          "iopub.status.busy": "2022-10-29T08:26:13.356837Z",
          "iopub.execute_input": "2022-10-29T08:26:13.357428Z",
          "iopub.status.idle": "2022-10-29T08:26:13.366640Z",
          "shell.execute_reply.started": "2022-10-29T08:26:13.357395Z",
          "shell.execute_reply": "2022-10-29T08:26:13.365389Z"
        },
        "trusted": true
      },
      "execution_count": null,
      "outputs": []
    },
    {
      "cell_type": "markdown",
      "source": "### Create training examples and targets\n\nOur next step is to actually divide the text into example sequences that we'll use during training. Each input sequence that we feed into our RNN will contain `seq_length` characters from the text. We'll also need to define a target sequence for each input sequence, which will be used in training the RNN to predict the next character. For each input, the corresponding target will contain the same length of text, except shifted one character to the right.\n\nTo do this, we'll break the text into chunks of `seq_length+1`. Suppose `seq_length` is 4 and our text is \"Hello\". Then, our input sequence is \"Hell\" and the target sequence is \"ello\".\n\nThe batch method will then let us convert this stream of character indices to sequences of the desired size.",
      "metadata": {
        "id": "hgsVvVxnymwf"
      }
    },
    {
      "cell_type": "code",
      "source": "### Batch definition to create training examples ###\n\ndef get_batch(vectorized_songs, seq_length, batch_size):\n  # the length of the vectorized songs string\n  n = vectorized_songs.shape[0] - 1\n  # randomly choose the starting indices for the examples in the training batch\n  idx = np.random.choice(n-seq_length, batch_size)\n\n  '''TODO: construct a list of input sequences for the training batch'''\n  input_batch_indexes = np.array(list(map(lambda i: np.arange(i, i + seq_length), idx)))\n  input_batch = vectorized_songs[input_batch_indexes] # TODO\n  '''TODO: construct a list of output sequences for the training batch'''\n  output_batch_indexes = input_batch_indexes + 1\n  output_batch = vectorized_songs[output_batch_indexes] # TODO\n\n  # x_batch, y_batch provide the true inputs and targets for network training\n  x_batch = np.reshape(input_batch, [batch_size, seq_length])\n  y_batch = np.reshape(output_batch, [batch_size, seq_length])\n  return x_batch, y_batch\n\n\n# Perform some simple tests to make sure your batch function is working properly! \ntest_args = (vectorized_songs, 10, 2)\nif not mdl.lab1.test_batch_func_types(get_batch, test_args) or \\\n   not mdl.lab1.test_batch_func_shapes(get_batch, test_args) or \\\n   not mdl.lab1.test_batch_func_next_step(get_batch, test_args): \n   print(\"======\\n[FAIL] could not pass tests\")\nelse: \n   print(\"======\\n[PASS] passed all tests!\")",
      "metadata": {
        "id": "LF-N8F7BoDRi",
        "execution": {
          "iopub.status.busy": "2022-10-29T08:26:13.372363Z",
          "iopub.execute_input": "2022-10-29T08:26:13.373212Z",
          "iopub.status.idle": "2022-10-29T08:26:13.386643Z",
          "shell.execute_reply.started": "2022-10-29T08:26:13.373164Z",
          "shell.execute_reply": "2022-10-29T08:26:13.385847Z"
        },
        "trusted": true
      },
      "execution_count": null,
      "outputs": []
    },
    {
      "cell_type": "markdown",
      "source": "For each of these vectors, each index is processed at a single time step. So, for the input at time step 0, the model receives the index for the first character in the sequence, and tries to predict the index of the next character. At the next timestep, it does the same thing, but the RNN considers the information from the previous step, i.e., its updated state, in addition to the current input.\n\nWe can make this concrete by taking a look at how this works over the first several characters in our text:",
      "metadata": {
        "id": "_33OHL3b84i0"
      }
    },
    {
      "cell_type": "code",
      "source": "x_batch, y_batch = get_batch(vectorized_songs, seq_length=5, batch_size=1)\n\nfor i, (input_idx, target_idx) in enumerate(zip(np.squeeze(x_batch), np.squeeze(y_batch))):\n    print(\"Step {:3d}\".format(i))\n    print(\"  input: {} ({:s})\".format(input_idx, repr(idx2char[input_idx])))\n    print(\"  expected output: {} ({:s})\".format(target_idx, repr(idx2char[target_idx])))",
      "metadata": {
        "id": "0eBu9WZG84i0",
        "execution": {
          "iopub.status.busy": "2022-10-29T08:26:13.388072Z",
          "iopub.execute_input": "2022-10-29T08:26:13.388756Z",
          "iopub.status.idle": "2022-10-29T08:26:13.403109Z",
          "shell.execute_reply.started": "2022-10-29T08:26:13.388726Z",
          "shell.execute_reply": "2022-10-29T08:26:13.402111Z"
        },
        "trusted": true
      },
      "execution_count": null,
      "outputs": []
    },
    {
      "cell_type": "markdown",
      "source": "## 2.4 The Recurrent Neural Network (RNN) model",
      "metadata": {
        "id": "r6oUuElIMgVx"
      }
    },
    {
      "cell_type": "markdown",
      "source": "Now we're ready to define and train a RNN model on our ABC music dataset, and then use that trained model to generate a new song. We'll train our RNN using batches of song snippets from our dataset, which we generated in the previous section.\n\nThe model is based off the LSTM architecture, where we use a state vector to maintain information about the temporal relationships between consecutive characters. The final output of the LSTM is then fed into a fully connected [`Dense`](https://www.tensorflow.org/api_docs/python/tf/keras/layers/Dense) layer where we'll output a softmax over each character in the vocabulary, and then sample from this distribution to predict the next character. \n\nAs we introduced in the first portion of this lab, we'll be using the Keras API, specifically, [`tf.keras.Sequential`](https://www.tensorflow.org/api_docs/python/tf/keras/models/Sequential), to define the model. Three layers are used to define the model:\n\n* [`tf.keras.layers.Embedding`](https://www.tensorflow.org/api_docs/python/tf/keras/layers/Embedding): This is the input layer, consisting of a trainable lookup table that maps the numbers of each character to a vector with `embedding_dim` dimensions.\n* [`tf.keras.layers.LSTM`](https://www.tensorflow.org/api_docs/python/tf/keras/layers/LSTM): Our LSTM network, with size `units=rnn_units`. \n* [`tf.keras.layers.Dense`](https://www.tensorflow.org/api_docs/python/tf/keras/layers/Dense): The output layer, with `vocab_size` outputs.\n\n\n<img src=\"https://raw.githubusercontent.com/aamini/introtodeeplearning/2019/lab1/img/lstm_unrolled-01-01.png\" alt=\"Drawing\"/>",
      "metadata": {
        "id": "m8gPwEjRzf-Z"
      }
    },
    {
      "cell_type": "markdown",
      "source": "### Define the RNN model\n\nNow, we will define a function that we will use to actually build the model.",
      "metadata": {
        "id": "rlaOqndqBmJo"
      }
    },
    {
      "cell_type": "code",
      "source": "def LSTM(rnn_units): \n  return tf.keras.layers.LSTM(\n    rnn_units, \n    return_sequences=True, \n    recurrent_initializer='glorot_uniform',\n    recurrent_activation='sigmoid',\n    stateful=True,\n  )",
      "metadata": {
        "id": "8DsWzojvkbc7",
        "execution": {
          "iopub.status.busy": "2022-10-29T08:26:13.404423Z",
          "iopub.execute_input": "2022-10-29T08:26:13.405127Z",
          "iopub.status.idle": "2022-10-29T08:26:13.413846Z",
          "shell.execute_reply.started": "2022-10-29T08:26:13.405093Z",
          "shell.execute_reply": "2022-10-29T08:26:13.412472Z"
        },
        "trusted": true
      },
      "execution_count": null,
      "outputs": []
    },
    {
      "cell_type": "markdown",
      "source": "The time has come! Fill in the `TODOs` to define the RNN model within the `build_model` function, and then call the function you just defined to instantiate the model!",
      "metadata": {
        "id": "IbWU4dMJmMvq"
      }
    },
    {
      "cell_type": "code",
      "source": "### Defining the RNN Model ###\n\n'''TODO: Add LSTM and Dense layers to define the RNN model using the Sequential API.'''\ndef build_model(vocab_size, embedding_dim, rnn_units, batch_size):\n  model = tf.keras.Sequential([\n    # Layer 1: Embedding layer to transform indices into dense vectors \n    #   of a fixed embedding size\n    tf.keras.layers.Embedding(vocab_size, embedding_dim, batch_input_shape=[batch_size, None]),\n\n    # Layer 2: LSTM with `rnn_units` number of units. \n    # TODO: Call the LSTM function defined above to add this layer.\n    LSTM(rnn_units),\n\n    # Layer 3: Dense (fully-connected) layer that transforms the LSTM output\n    #   into the vocabulary size. \n    # TODO: Add the Dense layer.\n    tf.keras.layers.Dense(vocab_size)\n  ])\n\n  return model\n\n# Build a simple model with default hyperparameters. You will get the \n#   chance to change these later.\nmodel = build_model(len(vocab), embedding_dim=256, rnn_units=1024, batch_size=32)",
      "metadata": {
        "id": "MtCrdfzEI2N0",
        "execution": {
          "iopub.status.busy": "2022-10-29T08:26:13.415975Z",
          "iopub.execute_input": "2022-10-29T08:26:13.416859Z",
          "iopub.status.idle": "2022-10-29T08:26:21.044600Z",
          "shell.execute_reply.started": "2022-10-29T08:26:13.416812Z",
          "shell.execute_reply": "2022-10-29T08:26:21.043572Z"
        },
        "trusted": true
      },
      "execution_count": null,
      "outputs": []
    },
    {
      "cell_type": "markdown",
      "source": "### Test out the RNN model\n\nIt's always a good idea to run a few simple checks on our model to see that it behaves as expected.  \n\nFirst, we can use the `Model.summary` function to print out a summary of our model's internal workings. Here we can check the layers in the model, the shape of the output of each of the layers, the batch size, etc.",
      "metadata": {
        "id": "-ubPo0_9Prjb"
      }
    },
    {
      "cell_type": "code",
      "source": "model.summary()",
      "metadata": {
        "id": "RwG1DD6rDrRM",
        "execution": {
          "iopub.status.busy": "2022-10-29T08:26:21.046149Z",
          "iopub.execute_input": "2022-10-29T08:26:21.046496Z",
          "iopub.status.idle": "2022-10-29T08:26:21.053750Z",
          "shell.execute_reply.started": "2022-10-29T08:26:21.046468Z",
          "shell.execute_reply": "2022-10-29T08:26:21.052540Z"
        },
        "trusted": true
      },
      "execution_count": null,
      "outputs": []
    },
    {
      "cell_type": "markdown",
      "source": "We can also quickly check the dimensionality of our output, using a sequence length of 100. Note that the model can be run on inputs of any length.",
      "metadata": {
        "id": "8xeDn5nZD0LX"
      }
    },
    {
      "cell_type": "code",
      "source": "x, y = get_batch(vectorized_songs, seq_length=100, batch_size=32)\npred = model(x)\nprint(\"Input shape:      \", x.shape, \" # (batch_size, sequence_length)\")\nprint(\"Prediction shape: \", pred.shape, \"# (batch_size, sequence_length, vocab_size)\")",
      "metadata": {
        "id": "C-_70kKAPrPU",
        "execution": {
          "iopub.status.busy": "2022-10-29T08:26:21.055191Z",
          "iopub.execute_input": "2022-10-29T08:26:21.056209Z",
          "iopub.status.idle": "2022-10-29T08:26:25.771517Z",
          "shell.execute_reply.started": "2022-10-29T08:26:21.056171Z",
          "shell.execute_reply": "2022-10-29T08:26:25.770502Z"
        },
        "trusted": true
      },
      "execution_count": null,
      "outputs": []
    },
    {
      "cell_type": "markdown",
      "source": "### Predictions from the untrained model\n\nLet's take a look at what our untrained model is predicting.\n\nTo get actual predictions from the model, we sample from the output distribution, which is defined by a `softmax` over our character vocabulary. This will give us actual character indices. This means we are using a [categorical distribution](https://en.wikipedia.org/wiki/Categorical_distribution) to sample over the example prediction. This gives a prediction of the next character (specifically its index) at each timestep.\n\nNote here that we sample from this probability distribution, as opposed to simply taking the `argmax`, which can cause the model to get stuck in a loop.\n\nLet's try this sampling out for the first example in the batch.",
      "metadata": {
        "id": "mT1HvFVUGpoE"
      }
    },
    {
      "cell_type": "code",
      "source": "sampled_indices = tf.random.categorical(pred[0], num_samples=1)\nsampled_indices = tf.squeeze(sampled_indices,axis=-1).numpy()\nsampled_indices",
      "metadata": {
        "id": "4V4MfFg0RQJg",
        "execution": {
          "iopub.status.busy": "2022-10-29T08:26:25.774549Z",
          "iopub.execute_input": "2022-10-29T08:26:25.774874Z",
          "iopub.status.idle": "2022-10-29T08:26:25.799669Z",
          "shell.execute_reply.started": "2022-10-29T08:26:25.774845Z",
          "shell.execute_reply": "2022-10-29T08:26:25.798564Z"
        },
        "trusted": true
      },
      "execution_count": null,
      "outputs": []
    },
    {
      "cell_type": "markdown",
      "source": "We can now decode these to see the text predicted by the untrained model:",
      "metadata": {
        "id": "LfLtsP3mUhCG"
      }
    },
    {
      "cell_type": "code",
      "source": "print(\"Input: \\n\", repr(\"\".join(idx2char[x[0]])))\nprint()\nprint(\"Next Char Predictions: \\n\", repr(\"\".join(idx2char[sampled_indices])))",
      "metadata": {
        "id": "xWcFwPwLSo05",
        "execution": {
          "iopub.status.busy": "2022-10-29T08:26:25.801557Z",
          "iopub.execute_input": "2022-10-29T08:26:25.801931Z",
          "iopub.status.idle": "2022-10-29T08:26:25.808282Z",
          "shell.execute_reply.started": "2022-10-29T08:26:25.801897Z",
          "shell.execute_reply": "2022-10-29T08:26:25.807188Z"
        },
        "trusted": true
      },
      "execution_count": null,
      "outputs": []
    },
    {
      "cell_type": "markdown",
      "source": "As you can see, the text predicted by the untrained model is pretty nonsensical! How can we do better? We can train the network!",
      "metadata": {
        "id": "HEHHcRasIDm9"
      }
    },
    {
      "cell_type": "markdown",
      "source": "## 2.5 Training the model: loss and training operations\n\nNow it's time to train the model!\n\nAt this point, we can think of our next character prediction problem as a standard classification problem. Given the previous state of the RNN, as well as the input at a given time step, we want to predict the class of the next character -- that is, to actually predict the next character. \n\nTo train our model on this classification task, we can use a form of the `crossentropy` loss (negative log likelihood loss). Specifically, we will use the [`sparse_categorical_crossentropy`](https://www.tensorflow.org/api_docs/python/tf/keras/losses/sparse_categorical_crossentropy) loss, as it utilizes integer targets for categorical classification tasks. We will want to compute the loss using the true targets -- the `labels` -- and the predicted targets -- the `logits`.\n\nLet's first compute the loss using our example predictions from the untrained model: ",
      "metadata": {
        "id": "LJL0Q0YPY6Ee"
      }
    },
    {
      "cell_type": "code",
      "source": "### Defining the loss function ###\n\n'''TODO: define the loss function to compute and return the loss between\n    the true labels and predictions (logits). Set the argument from_logits=True.'''\ndef compute_loss(labels, logits):\n  loss = tf.keras.losses.sparse_categorical_crossentropy(labels, logits, from_logits=True) # TODO\n  return loss\n\n'''TODO: compute the loss using the true next characters from the example batch \n    and the predictions from the untrained model several cells above'''\nexample_batch_loss = compute_loss(y, pred) # TODO\n\nprint(\"Prediction shape: \", pred.shape, \" # (batch_size, sequence_length, vocab_size)\") \nprint(\"scalar_loss:      \", example_batch_loss.numpy().mean())",
      "metadata": {
        "id": "4HrXTACTdzY-",
        "execution": {
          "iopub.status.busy": "2022-10-29T08:26:25.810082Z",
          "iopub.execute_input": "2022-10-29T08:26:25.810536Z",
          "iopub.status.idle": "2022-10-29T08:26:25.856286Z",
          "shell.execute_reply.started": "2022-10-29T08:26:25.810500Z",
          "shell.execute_reply": "2022-10-29T08:26:25.855302Z"
        },
        "trusted": true
      },
      "execution_count": null,
      "outputs": []
    },
    {
      "cell_type": "markdown",
      "source": "Let's start by defining some hyperparameters for training the model. To start, we have provided some reasonable values for some of the parameters. It is up to you to use what we've learned in class to help optimize the parameter selection here!",
      "metadata": {
        "id": "0Seh7e6eRqd7"
      }
    },
    {
      "cell_type": "code",
      "source": "### Hyperparameter setting and optimization ###\n\n# Optimization parameters:\n# num_training_iterations = 2000  # Increase this to train longer\nnum_training_iterations = 4000\n# batch_size = 4  # Experiment between 1 and 64\nbatch_size = 8\n# seq_length = 100  # Experiment between 50 and 500\nseq_length = 200\nlearning_rate = 5e-3  # Experiment between 1e-5 and 1e-1\n\n# Model parameters: \nvocab_size = len(vocab)\nembedding_dim = 256\n# rnn_units = 1024  # Experiment between 1 and 2048\n# See: https://github.com/aamini/introtodeeplearning/issues/95\nrnn_units = 2048\n\n# Checkpoint location: \ncheckpoint_dir = './training_checkpoints'\ncheckpoint_prefix = os.path.join(checkpoint_dir, \"my_ckpt\")",
      "metadata": {
        "id": "JQWUUhKotkAY",
        "execution": {
          "iopub.status.busy": "2022-10-29T08:26:25.857867Z",
          "iopub.execute_input": "2022-10-29T08:26:25.858232Z",
          "iopub.status.idle": "2022-10-29T08:26:25.864012Z",
          "shell.execute_reply.started": "2022-10-29T08:26:25.858196Z",
          "shell.execute_reply": "2022-10-29T08:26:25.862866Z"
        },
        "trusted": true
      },
      "execution_count": null,
      "outputs": []
    },
    {
      "cell_type": "markdown",
      "source": "Now, we are ready to define our training operation -- the optimizer and duration of training -- and use this function to train the model. You will experiment with the choice of optimizer and the duration for which you train your models, and see how these changes affect the network's output. Some optimizers you may like to try are [`Adam`](https://www.tensorflow.org/api_docs/python/tf/keras/optimizers/Adam?version=stable) and [`Adagrad`](https://www.tensorflow.org/api_docs/python/tf/keras/optimizers/Adagrad?version=stable).\n\nFirst, we will instantiate a new model and an optimizer. Then, we will use the [`tf.GradientTape`](https://www.tensorflow.org/api_docs/python/tf/GradientTape) method to perform the backpropagation operations. \n\nWe will also generate a print-out of the model's progress through training, which will help us easily visualize whether or not we are minimizing the loss.",
      "metadata": {
        "id": "5cu11p1MKYZd"
      }
    },
    {
      "cell_type": "code",
      "source": "### Define optimizer and training operation ###\n\n'''TODO: instantiate a new model for training using the `build_model`\n  function and the hyperparameters created above.'''\nmodel = build_model(vocab_size, embedding_dim, rnn_units, batch_size)\n\n'''TODO: instantiate an optimizer with its learning rate.\n  Checkout the tensorflow website for a list of supported optimizers.\n  https://www.tensorflow.org/api_docs/python/tf/keras/optimizers/\n  Try using the Adam optimizer to start.'''\noptimizer = tf.keras.optimizers.Adam(learning_rate) # TODO\n\n@tf.function\ndef train_step(x, y): \n  # Use tf.GradientTape()\n  with tf.GradientTape() as tape:\n  \n    '''TODO: feed the current input into the model and generate predictions'''\n    y_hat = model(x)\n  \n    '''TODO: compute the loss!'''\n    loss = compute_loss(y, y_hat)\n\n  # Now, compute the gradients \n  '''TODO: complete the function call for gradient computation. \n      Remember that we want the gradient of the loss with respect all \n      of the model parameters. \n      HINT: use `model.trainable_variables` to get a list of all model\n      parameters.'''\n  grads = tape.gradient(loss, model.trainable_variables)\n  \n  # Apply the gradients to the optimizer so it can update the model accordingly\n  optimizer.apply_gradients(zip(grads, model.trainable_variables))\n  return loss\n\n##################\n# Begin training!#\n##################\n\nhistory = []\nplotter = mdl.util.PeriodicPlotter(sec=2, xlabel='Iterations', ylabel='Loss')\nif hasattr(tqdm, '_instances'): tqdm._instances.clear() # clear if it exists\n\nfor iter in tqdm(range(num_training_iterations)):\n\n  # Grab a batch and propagate it through the network\n  x_batch, y_batch = get_batch(vectorized_songs, seq_length, batch_size)\n  loss = train_step(x_batch, y_batch)\n\n  # Update the progress bar\n  history.append(loss.numpy().mean())\n  plotter.plot(history)\n\n  # Update the model with the changed weights!\n  if iter % 100 == 0:     \n    model.save_weights(checkpoint_prefix)\n    \n# Save the trained model and the weights\nmodel.save_weights(checkpoint_prefix)\n",
      "metadata": {
        "id": "F31vzJ_u66cb",
        "execution": {
          "iopub.status.busy": "2022-10-29T08:26:25.865951Z",
          "iopub.execute_input": "2022-10-29T08:26:25.866339Z",
          "iopub.status.idle": "2022-10-29T08:33:17.306987Z",
          "shell.execute_reply.started": "2022-10-29T08:26:25.866305Z",
          "shell.execute_reply": "2022-10-29T08:33:17.306034Z"
        },
        "trusted": true
      },
      "execution_count": null,
      "outputs": []
    },
    {
      "cell_type": "markdown",
      "source": "## 2.6 Generate music using the RNN model\n\nNow, we can use our trained RNN model to generate some music! When generating music, we'll have to feed the model some sort of seed to get it started (because it can't predict anything without something to start with!).\n\nOnce we have a generated seed, we can then iteratively predict each successive character (remember, we are using the ABC representation for our music) using our trained RNN. More specifically, recall that our RNN outputs a `softmax` over possible successive characters. For inference, we iteratively sample from these distributions, and then use our samples to encode a generated song in the ABC format.\n\nThen, all we have to do is write it to a file and listen!",
      "metadata": {
        "id": "kKkD5M6eoSiN"
      }
    },
    {
      "cell_type": "markdown",
      "source": "### Restore the latest checkpoint\n\nTo keep this inference step simple, we will use a batch size of 1. Because of how the RNN state is passed from timestep to timestep, the model will only be able to accept a fixed batch size once it is built. \n\nTo run the model with a different `batch_size`, we'll need to rebuild the model and restore the weights from the latest checkpoint, i.e., the weights after the last checkpoint during training:",
      "metadata": {
        "id": "JIPcXllKjkdr"
      }
    },
    {
      "cell_type": "code",
      "source": "'''TODO: Rebuild the model using a batch_size=1'''\nbatch_size_overwritten = 1\nmodel = build_model(vocab_size, embedding_dim, rnn_units, batch_size=batch_size_overwritten)\n\n# Restore the model weights for the last checkpoint after training\nmodel.load_weights(tf.train.latest_checkpoint(checkpoint_dir))\nmodel.build(tf.TensorShape([batch_size_overwritten, None]))\n\nmodel.summary()",
      "metadata": {
        "id": "LycQ-ot_jjyu",
        "execution": {
          "iopub.status.busy": "2022-10-29T08:37:37.746383Z",
          "iopub.execute_input": "2022-10-29T08:37:37.746775Z",
          "iopub.status.idle": "2022-10-29T08:37:38.054019Z",
          "shell.execute_reply.started": "2022-10-29T08:37:37.746741Z",
          "shell.execute_reply": "2022-10-29T08:37:38.052932Z"
        },
        "trusted": true
      },
      "execution_count": null,
      "outputs": []
    },
    {
      "cell_type": "markdown",
      "source": "Notice that we have fed in a fixed `batch_size` of 1 for inference.",
      "metadata": {
        "id": "I9b4V2C8N62l"
      }
    },
    {
      "cell_type": "markdown",
      "source": "### The prediction procedure\n\nNow, we're ready to write the code to generate text in the ABC music format:\n\n* Initialize a \"seed\" start string and the RNN state, and set the number of characters we want to generate.\n\n* Use the start string and the RNN state to obtain the probability distribution over the next predicted character.\n\n* Sample from multinomial distribution to calculate the index of the predicted character. This predicted character is then used as the next input to the model.\n\n* At each time step, the updated RNN state is fed back into the model, so that it now has more context in making the next prediction. After predicting the next character, the updated RNN states are again fed back into the model, which is how it learns sequence dependencies in the data, as it gets more information from the previous predictions.\n\n![LSTM inference](https://raw.githubusercontent.com/aamini/introtodeeplearning/2019/lab1/img/lstm_inference.png)\n\nComplete and experiment with this code block (as well as some of the aspects of network definition and training!), and see how the model performs. How do songs generated after training with a small number of epochs compare to those generated after a longer duration of training?",
      "metadata": {
        "id": "DjGz1tDkzf-u"
      }
    },
    {
      "cell_type": "code",
      "source": "### Prediction of a generated song ###\n\ndef generate_text(model, start_string, generation_length=1000):\n  # Evaluation step (generating ABC text using the learned RNN model)\n\n  '''TODO: convert the start string to numbers (vectorize)'''\n  input_eval = [char2idx[c] for c in start_string]\n  input_eval = tf.expand_dims(input_eval, 0)\n\n  # Empty string to store our results\n  text_generated = []\n\n  # Here batch size == 1\n  model.reset_states()\n  tqdm._instances.clear()\n\n  for i in tqdm(range(generation_length)):\n      '''TODO: evaluate the inputs and generate the next character predictions'''\n      predictions = model(input_eval)\n      \n      # Remove the batch dimension\n      predictions = tf.squeeze(predictions, 0)\n      \n      '''TODO: use a multinomial distribution to sample'''\n      predicted_id = tf.random.categorical(predictions, num_samples=1)[-1,0].numpy()\n      \n      # Pass the prediction along with the previous hidden state\n      #   as the next inputs to the model\n      input_eval = tf.expand_dims([predicted_id], 0)\n      \n      '''TODO: add the predicted character to the generated text!'''\n      # Hint: consider what format the prediction is in vs. the output\n      text_generated.append(idx2char[predicted_id])\n    \n  return (start_string + ''.join(text_generated))",
      "metadata": {
        "id": "WvuwZBX5Ogfd",
        "execution": {
          "iopub.status.busy": "2022-10-29T08:37:44.319566Z",
          "iopub.execute_input": "2022-10-29T08:37:44.320300Z",
          "iopub.status.idle": "2022-10-29T08:37:44.328896Z",
          "shell.execute_reply.started": "2022-10-29T08:37:44.320254Z",
          "shell.execute_reply": "2022-10-29T08:37:44.327611Z"
        },
        "trusted": true
      },
      "execution_count": null,
      "outputs": []
    },
    {
      "cell_type": "code",
      "source": "'''TODO: Use the model and the function defined above to generate ABC format text of length 1000!\n    As you may notice, ABC files start with \"X\" - this may be a good start string.'''\ngenerated_text = generate_text(model, start_string=\"X\", generation_length=2000) # TODO\n# generated_text = generate_text('''TODO''', start_string=\"X\", generation_length=1000)",
      "metadata": {
        "id": "ktovv0RFhrkn",
        "execution": {
          "iopub.status.busy": "2022-10-29T08:38:38.671563Z",
          "iopub.execute_input": "2022-10-29T08:38:38.672282Z",
          "iopub.status.idle": "2022-10-29T08:38:48.999316Z",
          "shell.execute_reply.started": "2022-10-29T08:38:38.672248Z",
          "shell.execute_reply": "2022-10-29T08:38:48.997873Z"
        },
        "trusted": true
      },
      "execution_count": null,
      "outputs": []
    },
    {
      "cell_type": "markdown",
      "source": "### Play back the generated music!\n\nWe can now call a function to convert the ABC format text to an audio file, and then play that back to check out our generated music! Try training longer if the resulting song is not long enough, or re-generating the song!",
      "metadata": {
        "id": "AM2Uma_-yVIq"
      }
    },
    {
      "cell_type": "code",
      "source": "### Play back generated songs ###\n\ngenerated_songs = mdl.lab1.extract_song_snippet(generated_text)\n\nfor i, song in enumerate(generated_songs): \n  # Synthesize the waveform from a song\n  waveform = mdl.lab1.play_song(song)\n\n  # If its a valid song (correct syntax), lets play it! \n  if waveform:\n    print(\"Generated song\", i)\n    ipythondisplay.display(waveform)",
      "metadata": {
        "id": "LrOtG64bfLto",
        "execution": {
          "iopub.status.busy": "2022-10-29T08:38:51.784471Z",
          "iopub.execute_input": "2022-10-29T08:38:51.785187Z",
          "iopub.status.idle": "2022-10-29T08:38:53.415868Z",
          "shell.execute_reply.started": "2022-10-29T08:38:51.785153Z",
          "shell.execute_reply": "2022-10-29T08:38:53.414970Z"
        },
        "trusted": true
      },
      "execution_count": null,
      "outputs": []
    },
    {
      "cell_type": "markdown",
      "source": "## 2.7 Experiment and **get awarded for the best songs**!\n\nCongrats on making your first sequence model in TensorFlow! It's a pretty big accomplishment, and hopefully you have some sweet tunes to show for it.\n\nConsider how you may improve your model and what seems to be most important in terms of performance. Here are some ideas to get you started:\n\n*  How does the number of training epochs affect the performance?\n*  What if you alter or augment the dataset? \n*  Does the choice of start string significantly affect the result? \n\nTry to optimize your model and submit your best song! **MIT students and affiliates will be eligible for prizes during the IAP offering**. To enter the competition, MIT students and affiliates should upload the following to the course Canvas:\n\n* a recording of your song;\n* iPython notebook with the code you used to generate the song;\n* a description and/or diagram of the architecture and hyperparameters you used -- if there are any additional or interesting modifications you made to the template code, please include these in your description.\n\nYou can also tweet us at [@MITDeepLearning](https://twitter.com/MITDeepLearning) a copy of the song! See this example song generated by a previous 6.S191 student (credit Ana Heart): <a href=\"https://twitter.com/AnaWhatever16/status/1263092914680410112?s=20\">song from May 20, 2020.</a>\n<script async src=\"https://platform.twitter.com/widgets.js\" charset=\"utf-8\"></script>\n\nHave fun and happy listening!\n\n![Let's Dance!](http://33.media.tumblr.com/3d223954ad0a77f4e98a7b87136aa395/tumblr_nlct5lFVbF1qhu7oio1_500.gif)",
      "metadata": {
        "id": "HgVvcrYmSKGG"
      }
    }
  ]
}
